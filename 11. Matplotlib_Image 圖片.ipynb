{
 "cells": [
  {
   "cell_type": "code",
   "execution_count": 1,
   "metadata": {},
   "outputs": [],
   "source": [
    "import matplotlib.pyplot as plt\n",
    "import numpy as np"
   ]
  },
  {
   "cell_type": "code",
   "execution_count": 2,
   "metadata": {},
   "outputs": [],
   "source": [
    "# image data\n",
    "a = np.array([0.313660827978, 0.365348418405, 0.423733120134,\n",
    "              0.365348418405, 0.439599930621, 0.525083754405,\n",
    "              0.423733120134, 0.525083754405, 0.651536351379]).reshape(3,3)"
   ]
  },
  {
   "cell_type": "code",
   "execution_count": 4,
   "metadata": {},
   "outputs": [
    {
     "data": {
      "image/png": "[encoded data removed]",
      "text/plain": [
       "<Figure size 432x288 with 1 Axes>"
      ]
     },
     "metadata": {},
     "output_type": "display_data"
    }
   ],
   "source": [
    "# plt.imshow(a , interpolation = \"nearest\" , cmap = \"bone\" , origin = \"lower\")\n",
    "plt.imshow(a , interpolation = \"nearest\" , cmap = \"bone\" , origin = \"upper\")\n",
    "\"\"\"\n",
    "for the value of \"interpolation\", check this:\n",
    "http://matplotlib.org/examples/images_contours_and_fields/interpolation_methods.html\n",
    "\"\"\"\n",
    "\"\"\"\n",
    "for the value of \"origin\"= ['upper', 'lower'], check this:\n",
    "http://matplotlib.org/examples/pylab_examples/image_origin.html\n",
    "\"\"\"\n",
    "\n",
    "plt.xticks(())\n",
    "plt.yticks(())\n",
    "plt.show()"
   ]
  },
  {
   "cell_type": "code",
   "execution_count": 5,
   "metadata": {},
   "outputs": [
    {
     "data": {
      "image/png": "[encoded data removed]",
      "text/plain": [
       "<Figure size 432x288 with 2 Axes>"
      ]
     },
     "metadata": {
      "needs_background": "light"
     },
     "output_type": "display_data"
    }
   ],
   "source": [
    "# plt.imshow(a , interpolation = \"nearest\" , cmap = \"bone\" , origin = \"lower\")\n",
    "plt.imshow(a , interpolation = \"nearest\" , cmap = \"bone\" , origin = \"upper\")\n",
    "\n",
    "# colorbar\n",
    "plt.colorbar()\n",
    "\n",
    "plt.xticks(())\n",
    "plt.yticks(())\n",
    "plt.show()"
   ]
  },
  {
   "cell_type": "code",
   "execution_count": 6,
   "metadata": {},
   "outputs": [
    {
     "data": {
      "image/png": "[encoded data removed]",
      "text/plain": [
       "<Figure size 432x288 with 2 Axes>"
      ]
     },
     "metadata": {
      "needs_background": "light"
     },
     "output_type": "display_data"
    }
   ],
   "source": [
    "# plt.imshow(a , interpolation = \"nearest\" , cmap = \"bone\" , origin = \"lower\")\n",
    "plt.imshow(a , interpolation = \"nearest\" , cmap = \"bone\" , origin = \"upper\")\n",
    "\n",
    "plt.colorbar(shrink = 0.5)\n",
    "\n",
    "plt.xticks(())\n",
    "plt.yticks(())\n",
    "plt.show()"
   ]
  },
  {
   "cell_type": "code",
   "execution_count": null,
   "metadata": {},
   "outputs": [],
   "source": []
  }
 ],
 "metadata": {
  "kernelspec": {
   "display_name": "Python 3",
   "language": "python",
   "name": "python3"
  },
  "language_info": {
   "codemirror_mode": {
    "name": "ipython",
    "version": 3
   },
   "file_extension": ".py",
   "mimetype": "text/x-python",
   "name": "python",
   "nbconvert_exporter": "python",
   "pygments_lexer": "ipython3",
   "version": "3.7.7"
  }
 },
 "nbformat": 4,
 "nbformat_minor": 4
}
